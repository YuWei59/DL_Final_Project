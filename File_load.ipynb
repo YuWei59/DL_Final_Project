{
 "cells": [
  {
   "cell_type": "code",
   "execution_count": 3,
   "metadata": {
    "id": "bBOPj-R7tVHS"
   },
   "outputs": [],
   "source": [
    "trn_output_folder = \"dataset/TRN_IMGS_for_AE\"\n",
    "tst_output_folder = \"dataset/TST_IMGS_for_AE\"\n",
    "\n",
    "!mkdir \"dataset/TRN_IMGS_for_AE\"\n",
    "!mkdir \"dataset/TST_IMGS_for_AE\""
   ]
  },
  {
   "cell_type": "code",
   "execution_count": 15,
   "metadata": {
    "colab": {
     "base_uri": "https://localhost:8080/"
    },
    "executionInfo": {
     "elapsed": 376768,
     "status": "ok",
     "timestamp": 1682566830245,
     "user": {
      "displayName": "Han Zhang Lin",
      "userId": "13281306739212316904"
     },
     "user_tz": -480
    },
    "id": "-3Tav4M1o6Z_",
    "outputId": "a3bc47f3-0c3c-4d23-a79f-3efd2461c891"
   },
   "outputs": [
    {
     "name": "stderr",
     "output_type": "stream",
     "text": [
      "100%|██████████████████████████████████████████████████████████████████████████████| 8456/8456 [42:46<00:00,  3.30it/s]\n",
      "100%|██████████████████████████████████████████████████████████████████████████████| 2123/2123 [07:14<00:00,  4.88it/s]\n"
     ]
    }
   ],
   "source": [
    "from glob import glob\n",
    "from tqdm import tqdm\n",
    "import numpy as np\n",
    "import matplotlib.pyplot as plt\n",
    "import matplotlib.animation as animation\n",
    "import scipy.io as sio\n",
    "\n",
    "\n",
    "HI_data_path_list = sorted(glob(\"dataset/HI_dataset/*.mat\"))\n",
    "# trn_data_path_list, tst_data_path_list = train_test_split(HI_data_path_list, test_size = 0.2)\n",
    "\n",
    "max_vals = list()\n",
    "trn_data_path_list = HI_data_path_list[:len(HI_data_path_list)//10*8]\n",
    "tst_data_path_list = HI_data_path_list[len(HI_data_path_list)//10*8:]\n",
    "# Trn\n",
    "for index, HI_data_path in enumerate(tqdm(trn_data_path_list)):\n",
    "\n",
    "  if index % 1 == 0:\n",
    "    matFile = HI_data_path\n",
    "    HI_Data = sio.loadmat(matFile)\n",
    "\n",
    "    target_name = HI_data_path.split(\"/\")[1].split(\"\\\\\")[1].split(\".\")[0]\n",
    "\n",
    "    for index, frame in enumerate(HI_Data[\"pmat\"]):\n",
    "      np.save(f\"{trn_output_folder}/{target_name}_{index:02}\", np.transpose(frame))\n",
    "      max_vals.append(np.max(frame))\n",
    "\n",
    "# Tst\n",
    "for index, HI_data_path in enumerate(tqdm(tst_data_path_list)):\n",
    "\n",
    "  if index % 1 == 0:\n",
    "    matFile = HI_data_path\n",
    "    HI_Data = sio.loadmat(matFile)\n",
    "\n",
    "    target_name = HI_data_path.split(\"/\")[1].split(\"\\\\\")[1].split(\".\")[0]\n",
    "\n",
    "    for index, frame in enumerate(HI_Data[\"pmat\"]):\n",
    "      np.save(f\"{tst_output_folder}/{target_name}_{index:02}\", np.transpose(frame))\n",
    "      max_vals.append(np.max(frame))"
   ]
  }
 ],
 "metadata": {
  "colab": {
   "authorship_tag": "ABX9TyMXJ8wDVV4E0+YJHXVtb9aS",
   "collapsed_sections": [
    "nhlqPEyFpXTF",
    "xaOQcumIXt5J",
    "hAb2KU3HiEDq",
    "CSpACE1Go1lQ",
    "gpH2nDkB2FKm",
    "VEC0r-GZp5uB",
    "8lVLALXNWzTv",
    "a_Y84gc5bZc2",
    "IhefbguHbcUV",
    "fETUQN1cMRDR",
    "i-iT2xeOMSyj",
    "bhPIXP0qNQH1",
    "i-OArAFX_Yga"
   ],
   "mount_file_id": "1usrOvmqc8A7U0tLDYzmeG1nfPbhgm2XD",
   "provenance": []
  },
  "gpuClass": "standard",
  "kernelspec": {
   "display_name": "Python 3 (ipykernel)",
   "language": "python",
   "name": "python3"
  },
  "language_info": {
   "codemirror_mode": {
    "name": "ipython",
    "version": 3
   },
   "file_extension": ".py",
   "mimetype": "text/x-python",
   "name": "python",
   "nbconvert_exporter": "python",
   "pygments_lexer": "ipython3",
   "version": "3.10.11"
  }
 },
 "nbformat": 4,
 "nbformat_minor": 1
}
